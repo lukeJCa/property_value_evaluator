{
 "cells": [
  {
   "cell_type": "code",
   "execution_count": 4,
   "metadata": {},
   "outputs": [],
   "source": [
    "import pandas as pd\n",
    "from geopy.geocoders import Nominatim\n",
    "from geopy.distance import geodesic"
   ]
  },
  {
   "cell_type": "code",
   "execution_count": 13,
   "metadata": {},
   "outputs": [],
   "source": [
    "def get_latlon(address):\n",
    "\n",
    "    geolocator = Nominatim(user_agent=\"Property Distance Tracker\")\n",
    "    location = geolocator.geocode(address)\n",
    "    if location is not None:\n",
    "        return [location.latitude, location.longitude], str(location).split(\",\")[1]\n",
    "    else:\n",
    "        return -1, -1"
   ]
  },
  {
   "cell_type": "code",
   "execution_count": 17,
   "metadata": {},
   "outputs": [
    {
     "name": "stdout",
     "output_type": "stream",
     "text": [
      "[-37.807691750000004, 144.97607350369753]\n",
      "[-32.1331214, 116.01998967299593]\n",
      "[57.3918066, -5.4509471]\n",
      "[52.4685411, -114.04327724999999]\n",
      "[44.9580435, -93.10250117742106]\n",
      "Sentiens Hospital, Perth\n",
      "[42.02387165, -84.14048472776817]\n",
      "[-32.0695563, 115.84766461278814]\n",
      "[-32.05746825, 115.75336708071367]\n",
      "[48.41570085, -123.3325628657989]\n",
      "[-31.9626627, 115.78890549383706]\n",
      "[-31.96889905, 115.80948202762384]\n",
      "HMAS Stirling Health Centre\n",
      "[-31.738436450000002, 115.77235989116117]\n",
      "Kalamunda District Hospital Campus\n",
      "King Edward Memorial Hospital for Women\n",
      "[41.664047249999996, -91.52838683341896]\n",
      "[-31.89578585, 116.0064030541972]\n",
      "[-31.95796365, 115.84563559966458]\n",
      "[-31.9345392, 115.87433899332527]\n",
      "[-31.88763085, 115.8039053835443]\n",
      "[-32.532451249999994, 115.7637818683295]\n",
      "[-32.3105585, 115.7630118]\n",
      "Rockingham/Kwinana District Hospital\n",
      "Rottnest Island Nursing Post\n",
      "[-31.953232049999997, 115.86593154993494]\n",
      "[-31.955469049999998, 115.80315351230655]\n",
      "[-31.96736655, 115.81570850481455]\n",
      "[-31.997404250000002, 115.8725372894501]\n",
      "[-32.06804095, 115.84484255969707]\n",
      "[-31.9418919, 115.82513440957732]\n",
      "West Leederville Private Hospital\n"
     ]
    }
   ],
   "source": [
    "with open(\"data/location_text/hospitals.txt\", 'r') as f:\n",
    "    content = f.read().splitlines()\n",
    "    for location in content:\n",
    "        loc = get_latlon(location)[0]\n",
    "        if loc != -1:\n",
    "            print(loc)\n",
    "        else:\n",
    "            print(location)"
   ]
  },
  {
   "cell_type": "code",
   "execution_count": null,
   "metadata": {},
   "outputs": [],
   "source": []
  }
 ],
 "metadata": {
  "kernelspec": {
   "display_name": "Python 3",
   "language": "python",
   "name": "python3"
  },
  "language_info": {
   "codemirror_mode": {
    "name": "ipython",
    "version": 3
   },
   "file_extension": ".py",
   "mimetype": "text/x-python",
   "name": "python",
   "nbconvert_exporter": "python",
   "pygments_lexer": "ipython3",
   "version": "3.7.7"
  }
 },
 "nbformat": 4,
 "nbformat_minor": 4
}
